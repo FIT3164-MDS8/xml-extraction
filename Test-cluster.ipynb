{
 "cells": [
  {
   "cell_type": "code",
   "execution_count": null,
   "metadata": {},
   "outputs": [],
   "source": [
    "import pandas as pd\n",
    "from sklearn import datasets\n",
    "from sklearn.cluster import KMeans\n",
    "import matplotlib.pyplot as plt\n",
    "from sklearn.decomposition import PCA\n",
    "import seaborn as sns\n",
    "import os"
   ]
  },
  {
   "cell_type": "code",
   "execution_count": null,
   "metadata": {},
   "outputs": [],
   "source": [
    "path = os.getcwd()\n",
    "print(path)\n",
    "path = os.chdir('/Users/karelchandra/FYP3164/output')\n",
    "path = os.getcwd()\n",
    "print(path)"
   ]
  },
  {
   "cell_type": "code",
   "execution_count": null,
   "metadata": {
    "scrolled": false
   },
   "outputs": [],
   "source": [
    "def dataframe_join_avg():\n",
    "    \"\"\"\n",
    "    A function that loops through all the document for all the process\n",
    "    Output the final DataFrame to a csv file with the initial filename with .csv instead of .xml\n",
    "    \"\"\"\n",
    "    file_list = os.listdir()\n",
    "    li = []\n",
    "    for docName in file_list:\n",
    "        #print(docName)\n",
    "        if os.path.isfile(docName):\n",
    "            temp = pd.read_csv(docName)\n",
    "            temp = temp.fillna(0)\n",
    "            lst = list(temp.mean(axis=0))\n",
    "            ret = pd.DataFrame([lst]) \n",
    "            ret.insert(0,'File_csv', docName)\n",
    "            ret.columns = ['File_csv','abstract_avg', 'section_1_avg', 'section_2_avg', 'section_3_avg', 'section_4_avg', 'section_5_avg']\n",
    "            #print(lst)\n",
    "            #df['File_csv'] = docName\n",
    "            #ret = df.columns = ['1', '2', '3', '4', '5', '6']\n",
    "            #df.loc[len(df)] = lst\n",
    "            #print(ret)\n",
    "            li.append(ret)\n",
    "    df = pd.concat(li, ignore_index=True)\n",
    "    return df\n",
    "            \n",
    "def main():\n",
    "    os.chdir('/Users/karelchandra/FYP3164/output')\n",
    "    \n",
    "    try:\n",
    "        os.mkdir('output')\n",
    "    except OSError as error:\n",
    "        print(error)\n",
    "    \n",
    "    df = dataframe_join_avg()\n",
    "    return df\n",
    "\n",
    "df = main()\n",
    "df"
   ]
  },
  {
   "cell_type": "code",
   "execution_count": null,
   "metadata": {},
   "outputs": [],
   "source": [
    "model = KMeans(n_clusters=5)\n",
    "y = model.fit_predict(df[['abstract_avg']])\n",
    "df['Cluster'] = y\n",
    "df"
   ]
  },
  {
   "cell_type": "code",
   "execution_count": null,
   "metadata": {},
   "outputs": [],
   "source": [
    "pca_num_components = 2\n",
    "\n",
    "reduced_data = PCA(n_components=pca_num_components).fit_transform(df.loc[:, df.columns != 'File_csv'])\n",
    "results = pd.DataFrame(reduced_data,columns=['pca1','pca2'])\n",
    "\n",
    "sns.scatterplot(x=\"pca1\", y=\"pca2\", hue=df['Cluster'], data=results)\n",
    "plt.title('K-means Clustering with 2 dimensions')\n",
    "plt.show()"
   ]
  },
  {
   "cell_type": "code",
   "execution_count": null,
   "metadata": {},
   "outputs": [],
   "source": []
  }
 ],
 "metadata": {
  "kernelspec": {
   "display_name": "Python 3",
   "language": "python",
   "name": "python3"
  },
  "language_info": {
   "codemirror_mode": {
    "name": "ipython",
    "version": 3
   },
   "file_extension": ".py",
   "mimetype": "text/x-python",
   "name": "python",
   "nbconvert_exporter": "python",
   "pygments_lexer": "ipython3",
   "version": "3.8.3"
  }
 },
 "nbformat": 4,
 "nbformat_minor": 4
}
